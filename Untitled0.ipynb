{
  "nbformat": 4,
  "nbformat_minor": 0,
  "metadata": {
    "colab": {
      "provenance": []
    },
    "kernelspec": {
      "name": "python3",
      "display_name": "Python 3"
    },
    "language_info": {
      "name": "python"
    }
  },
  "cells": [
    {
      "cell_type": "code",
      "execution_count": null,
      "metadata": {
        "colab": {
          "base_uri": "https://localhost:8080/"
        },
        "id": "W7JboKX-15F_",
        "outputId": "e3abee85-1829-4f75-c678-8b01d79d0ee8"
      },
      "outputs": [
        {
          "name": "stdout",
          "output_type": "stream",
          "text": [
            "Hello World\n",
            "enter 1st value10\n",
            "enter 2nd value20\n"
          ]
        }
      ],
      "source": [
        "print(\"Hello World\")\n",
        "num1=int(input(\"enter 1st value\"))\n",
        "num2=int(input(\"enter 2nd value\"))\n",
        "addition = num1+num2"
      ]
    },
    {
      "cell_type": "code",
      "source": [
        "\n",
        "print(\"--------Mini Calculator----------\")\n",
        "\n",
        "num1 = int(input(\"enter 1st v1lue:\"))\n",
        "num2 = int(input(\"enter 2nd value:\"))\n",
        "\n",
        "print(\"1:Addition 2:divisison\\n 3:multiplication\\n\")\n",
        "\n",
        "addition=num1+num2\n",
        "subtraction=num1*num2\n",
        "\n",
        "\n",
        "\n",
        "if choice==1:\n",
        "   print(addition)\n",
        "\n",
        "elif choice ==2:\n",
        "     print(subtrsction)\n",
        "\n",
        "elif choice==3:\n",
        "     print(division)\n",
        "\n",
        "elif choice==4:\n",
        "     print(multiplication)\n",
        "\n",
        "else:\n",
        "     print(\"invalid input\")\n",
        "\n"
      ],
      "metadata": {
        "colab": {
          "base_uri": "https://localhost:8080/",
          "height": 315
        },
        "id": "oUhSh_DG59Z4",
        "outputId": "45bcd0d6-2038-4ddb-c724-80b3c843b337"
      },
      "execution_count": null,
      "outputs": [
        {
          "output_type": "stream",
          "name": "stdout",
          "text": [
            "--------Mini Calculator----------\n",
            "enter 1st v1lue:10\n",
            "enter 2nd value:20\n",
            "1:Addition \n",
            "3:divisison\n",
            "4:multiplication\n"
          ]
        },
        {
          "output_type": "error",
          "ename": "NameError",
          "evalue": "name 'choice' is not defined",
          "traceback": [
            "\u001b[0;31m---------------------------------------------------------------------------\u001b[0m",
            "\u001b[0;31mNameError\u001b[0m                                 Traceback (most recent call last)",
            "\u001b[0;32m<ipython-input-31-876f163462c0>\u001b[0m in \u001b[0;36m<cell line: 11>\u001b[0;34m()\u001b[0m\n\u001b[1;32m      9\u001b[0m \u001b[0msubtraction\u001b[0m\u001b[0;34m=\u001b[0m\u001b[0mnum1\u001b[0m\u001b[0;34m*\u001b[0m\u001b[0mnum2\u001b[0m\u001b[0;34m\u001b[0m\u001b[0;34m\u001b[0m\u001b[0m\n\u001b[1;32m     10\u001b[0m \u001b[0;34m\u001b[0m\u001b[0m\n\u001b[0;32m---> 11\u001b[0;31m \u001b[0;32mif\u001b[0m \u001b[0mchoice\u001b[0m\u001b[0;34m==\u001b[0m\u001b[0;36m1\u001b[0m\u001b[0;34m:\u001b[0m\u001b[0;34m\u001b[0m\u001b[0;34m\u001b[0m\u001b[0m\n\u001b[0m\u001b[1;32m     12\u001b[0m    \u001b[0mprint\u001b[0m\u001b[0;34m(\u001b[0m\u001b[0maddition\u001b[0m\u001b[0;34m)\u001b[0m\u001b[0;34m\u001b[0m\u001b[0;34m\u001b[0m\u001b[0m\n\u001b[1;32m     13\u001b[0m \u001b[0;34m\u001b[0m\u001b[0m\n",
            "\u001b[0;31mNameError\u001b[0m: name 'choice' is not defined"
          ]
        }
      ]
    },
    {
      "cell_type": "code",
      "source": [
        "print(\"------mini calculator------\")\n",
        "\n",
        "num1=int(input(\"enter the 1st value:\"))\n",
        "num2=int(input(\"enter the 2nd value\"))\n",
        "\n",
        "addition=num1+num2\n",
        "substraction=num1-num2\n",
        "multiplication=num1*num2\n",
        "division\n"
      ],
      "metadata": {
        "id": "Cp8DpwLL_0sR"
      },
      "execution_count": null,
      "outputs": []
    },
    {
      "cell_type": "code",
      "source": [],
      "metadata": {
        "id": "7Ent9DFl9cRi"
      },
      "execution_count": null,
      "outputs": []
    }
  ]
}